{
 "cells": [
  {
   "cell_type": "markdown",
   "id": "6a546a88",
   "metadata": {},
   "source": [
    "### DataAnalyses"
   ]
  },
  {
   "cell_type": "markdown",
   "id": "622d7352",
   "metadata": {},
   "source": [
    "## Libraries\n"
   ]
  },
  {
   "cell_type": "code",
   "execution_count": 370,
   "id": "f6568e7b",
   "metadata": {},
   "outputs": [],
   "source": [
    "# basics\n",
    "import numpy as np\n",
    "import pandas as pd \n",
    "\n",
    "# for plots\n",
    "import matplotlib.pyplot as plt\n",
    "import seaborn as sns\n",
    "\n",
    "# data processing\n",
    "from sklearn.model_selection import train_test_split\n",
    "from sklearn.preprocessing import MinMaxScaler, RobustScaler\n",
    "\n",
    "# ML Models\n",
    "from sklearn.linear_model import LinearRegression\n",
    "from sklearn.tree import DecisionTreeRegressor\n",
    "from sklearn.ensemble import RandomForestRegressor\n",
    "from sklearn.svm import SVR\n",
    "from sklearn.neighbors import KNeighborsRegressor\n",
    "from sklearn.preprocessing import LabelEncoder\n",
    "\n",
    "# Metrics\n",
    "from sklearn.metrics import mean_squared_error, root_mean_squared_error"
   ]
  },
  {
   "cell_type": "code",
   "execution_count": null,
   "id": "a3c19120",
   "metadata": {},
   "outputs": [],
   "source": []
  },
  {
   "cell_type": "code",
   "execution_count": 371,
   "id": "5bf2f31f",
   "metadata": {},
   "outputs": [
    {
     "name": "stdout",
     "output_type": "stream",
     "text": [
      "                                                 App        Category  Rating  \\\n",
      "0     Photo Editor & Candy Camera & Grid & ScrapBook  ART_AND_DESIGN     4.1   \n",
      "1                                Coloring book moana  ART_AND_DESIGN     3.9   \n",
      "2  U Launcher Lite – FREE Live Cool Themes, Hide ...  ART_AND_DESIGN     4.7   \n",
      "3                              Sketch - Draw & Paint  ART_AND_DESIGN     4.5   \n",
      "4              Pixel Draw - Number Art Coloring Book  ART_AND_DESIGN     4.3   \n",
      "\n",
      "  Reviews  Size     Installs  Type Price Content Rating  \\\n",
      "0     159   19M      10,000+  Free     0       Everyone   \n",
      "1     967   14M     500,000+  Free     0       Everyone   \n",
      "2   87510  8.7M   5,000,000+  Free     0       Everyone   \n",
      "3  215644   25M  50,000,000+  Free     0           Teen   \n",
      "4     967  2.8M     100,000+  Free     0       Everyone   \n",
      "\n",
      "                      Genres      Last Updated         Current Ver  \\\n",
      "0               Art & Design   January 7, 2018               1.0.0   \n",
      "1  Art & Design;Pretend Play  January 15, 2018               2.0.0   \n",
      "2               Art & Design    August 1, 2018               1.2.4   \n",
      "3               Art & Design      June 8, 2018  Varies with device   \n",
      "4    Art & Design;Creativity     June 20, 2018                 1.1   \n",
      "\n",
      "    Android Ver  \n",
      "0  4.0.3 and up  \n",
      "1  4.0.3 and up  \n",
      "2  4.0.3 and up  \n",
      "3    4.2 and up  \n",
      "4    4.4 and up  \n"
     ]
    }
   ],
   "source": [
    "# Dataset\n",
    "df = pd.read_csv(\"DataSet/googleplaystore.csv\")\n",
    "print(df.head())"
   ]
  },
  {
   "cell_type": "code",
   "execution_count": 372,
   "id": "dd50d530",
   "metadata": {},
   "outputs": [
    {
     "name": "stdout",
     "output_type": "stream",
     "text": [
      "<class 'pandas.core.frame.DataFrame'>\n",
      "RangeIndex: 10841 entries, 0 to 10840\n",
      "Data columns (total 13 columns):\n",
      " #   Column          Non-Null Count  Dtype  \n",
      "---  ------          --------------  -----  \n",
      " 0   App             10841 non-null  object \n",
      " 1   Category        10841 non-null  object \n",
      " 2   Rating          9367 non-null   float64\n",
      " 3   Reviews         10841 non-null  object \n",
      " 4   Size            10841 non-null  object \n",
      " 5   Installs        10841 non-null  object \n",
      " 6   Type            10840 non-null  object \n",
      " 7   Price           10841 non-null  object \n",
      " 8   Content Rating  10840 non-null  object \n",
      " 9   Genres          10841 non-null  object \n",
      " 10  Last Updated    10841 non-null  object \n",
      " 11  Current Ver     10833 non-null  object \n",
      " 12  Android Ver     10838 non-null  object \n",
      "dtypes: float64(1), object(12)\n",
      "memory usage: 1.1+ MB\n"
     ]
    },
    {
     "data": {
      "text/html": [
       "<div>\n",
       "<style scoped>\n",
       "    .dataframe tbody tr th:only-of-type {\n",
       "        vertical-align: middle;\n",
       "    }\n",
       "\n",
       "    .dataframe tbody tr th {\n",
       "        vertical-align: top;\n",
       "    }\n",
       "\n",
       "    .dataframe thead th {\n",
       "        text-align: right;\n",
       "    }\n",
       "</style>\n",
       "<table border=\"1\" class=\"dataframe\">\n",
       "  <thead>\n",
       "    <tr style=\"text-align: right;\">\n",
       "      <th></th>\n",
       "      <th>App</th>\n",
       "      <th>Category</th>\n",
       "      <th>Rating</th>\n",
       "      <th>Reviews</th>\n",
       "      <th>Size</th>\n",
       "      <th>Installs</th>\n",
       "      <th>Type</th>\n",
       "      <th>Price</th>\n",
       "      <th>Content Rating</th>\n",
       "      <th>Genres</th>\n",
       "      <th>Last Updated</th>\n",
       "      <th>Current Ver</th>\n",
       "      <th>Android Ver</th>\n",
       "    </tr>\n",
       "  </thead>\n",
       "  <tbody>\n",
       "    <tr>\n",
       "      <th>0</th>\n",
       "      <td>Photo Editor &amp; Candy Camera &amp; Grid &amp; ScrapBook</td>\n",
       "      <td>ART_AND_DESIGN</td>\n",
       "      <td>4.1</td>\n",
       "      <td>159</td>\n",
       "      <td>19M</td>\n",
       "      <td>10,000+</td>\n",
       "      <td>Free</td>\n",
       "      <td>0</td>\n",
       "      <td>Everyone</td>\n",
       "      <td>Art &amp; Design</td>\n",
       "      <td>January 7, 2018</td>\n",
       "      <td>1.0.0</td>\n",
       "      <td>4.0.3 and up</td>\n",
       "    </tr>\n",
       "    <tr>\n",
       "      <th>1</th>\n",
       "      <td>Coloring book moana</td>\n",
       "      <td>ART_AND_DESIGN</td>\n",
       "      <td>3.9</td>\n",
       "      <td>967</td>\n",
       "      <td>14M</td>\n",
       "      <td>500,000+</td>\n",
       "      <td>Free</td>\n",
       "      <td>0</td>\n",
       "      <td>Everyone</td>\n",
       "      <td>Art &amp; Design;Pretend Play</td>\n",
       "      <td>January 15, 2018</td>\n",
       "      <td>2.0.0</td>\n",
       "      <td>4.0.3 and up</td>\n",
       "    </tr>\n",
       "    <tr>\n",
       "      <th>2</th>\n",
       "      <td>U Launcher Lite – FREE Live Cool Themes, Hide ...</td>\n",
       "      <td>ART_AND_DESIGN</td>\n",
       "      <td>4.7</td>\n",
       "      <td>87510</td>\n",
       "      <td>8.7M</td>\n",
       "      <td>5,000,000+</td>\n",
       "      <td>Free</td>\n",
       "      <td>0</td>\n",
       "      <td>Everyone</td>\n",
       "      <td>Art &amp; Design</td>\n",
       "      <td>August 1, 2018</td>\n",
       "      <td>1.2.4</td>\n",
       "      <td>4.0.3 and up</td>\n",
       "    </tr>\n",
       "    <tr>\n",
       "      <th>3</th>\n",
       "      <td>Sketch - Draw &amp; Paint</td>\n",
       "      <td>ART_AND_DESIGN</td>\n",
       "      <td>4.5</td>\n",
       "      <td>215644</td>\n",
       "      <td>25M</td>\n",
       "      <td>50,000,000+</td>\n",
       "      <td>Free</td>\n",
       "      <td>0</td>\n",
       "      <td>Teen</td>\n",
       "      <td>Art &amp; Design</td>\n",
       "      <td>June 8, 2018</td>\n",
       "      <td>Varies with device</td>\n",
       "      <td>4.2 and up</td>\n",
       "    </tr>\n",
       "    <tr>\n",
       "      <th>4</th>\n",
       "      <td>Pixel Draw - Number Art Coloring Book</td>\n",
       "      <td>ART_AND_DESIGN</td>\n",
       "      <td>4.3</td>\n",
       "      <td>967</td>\n",
       "      <td>2.8M</td>\n",
       "      <td>100,000+</td>\n",
       "      <td>Free</td>\n",
       "      <td>0</td>\n",
       "      <td>Everyone</td>\n",
       "      <td>Art &amp; Design;Creativity</td>\n",
       "      <td>June 20, 2018</td>\n",
       "      <td>1.1</td>\n",
       "      <td>4.4 and up</td>\n",
       "    </tr>\n",
       "  </tbody>\n",
       "</table>\n",
       "</div>"
      ],
      "text/plain": [
       "                                                 App        Category  Rating  \\\n",
       "0     Photo Editor & Candy Camera & Grid & ScrapBook  ART_AND_DESIGN     4.1   \n",
       "1                                Coloring book moana  ART_AND_DESIGN     3.9   \n",
       "2  U Launcher Lite – FREE Live Cool Themes, Hide ...  ART_AND_DESIGN     4.7   \n",
       "3                              Sketch - Draw & Paint  ART_AND_DESIGN     4.5   \n",
       "4              Pixel Draw - Number Art Coloring Book  ART_AND_DESIGN     4.3   \n",
       "\n",
       "  Reviews  Size     Installs  Type Price Content Rating  \\\n",
       "0     159   19M      10,000+  Free     0       Everyone   \n",
       "1     967   14M     500,000+  Free     0       Everyone   \n",
       "2   87510  8.7M   5,000,000+  Free     0       Everyone   \n",
       "3  215644   25M  50,000,000+  Free     0           Teen   \n",
       "4     967  2.8M     100,000+  Free     0       Everyone   \n",
       "\n",
       "                      Genres      Last Updated         Current Ver  \\\n",
       "0               Art & Design   January 7, 2018               1.0.0   \n",
       "1  Art & Design;Pretend Play  January 15, 2018               2.0.0   \n",
       "2               Art & Design    August 1, 2018               1.2.4   \n",
       "3               Art & Design      June 8, 2018  Varies with device   \n",
       "4    Art & Design;Creativity     June 20, 2018                 1.1   \n",
       "\n",
       "    Android Ver  \n",
       "0  4.0.3 and up  \n",
       "1  4.0.3 and up  \n",
       "2  4.0.3 and up  \n",
       "3    4.2 and up  \n",
       "4    4.4 and up  "
      ]
     },
     "execution_count": 372,
     "metadata": {},
     "output_type": "execute_result"
    }
   ],
   "source": [
    "df.describe()\n",
    "df.info()\n",
    "df.head()"
   ]
  },
  {
   "cell_type": "code",
   "execution_count": 373,
   "id": "be756851",
   "metadata": {},
   "outputs": [
    {
     "data": {
      "text/html": [
       "<svg  width=\"660\" height=\"55\"><rect x=\"0\" y=\"0\" width=\"55\" height=\"55\" style=\"fill:#8dd3c7;stroke-width:2;stroke:rgb(255,255,255)\"/><rect x=\"55\" y=\"0\" width=\"55\" height=\"55\" style=\"fill:#ffffb3;stroke-width:2;stroke:rgb(255,255,255)\"/><rect x=\"110\" y=\"0\" width=\"55\" height=\"55\" style=\"fill:#bebada;stroke-width:2;stroke:rgb(255,255,255)\"/><rect x=\"165\" y=\"0\" width=\"55\" height=\"55\" style=\"fill:#fb8072;stroke-width:2;stroke:rgb(255,255,255)\"/><rect x=\"220\" y=\"0\" width=\"55\" height=\"55\" style=\"fill:#80b1d3;stroke-width:2;stroke:rgb(255,255,255)\"/><rect x=\"275\" y=\"0\" width=\"55\" height=\"55\" style=\"fill:#fdb462;stroke-width:2;stroke:rgb(255,255,255)\"/><rect x=\"330\" y=\"0\" width=\"55\" height=\"55\" style=\"fill:#b3de69;stroke-width:2;stroke:rgb(255,255,255)\"/><rect x=\"385\" y=\"0\" width=\"55\" height=\"55\" style=\"fill:#fccde5;stroke-width:2;stroke:rgb(255,255,255)\"/><rect x=\"440\" y=\"0\" width=\"55\" height=\"55\" style=\"fill:#d9d9d9;stroke-width:2;stroke:rgb(255,255,255)\"/><rect x=\"495\" y=\"0\" width=\"55\" height=\"55\" style=\"fill:#bc80bd;stroke-width:2;stroke:rgb(255,255,255)\"/><rect x=\"550\" y=\"0\" width=\"55\" height=\"55\" style=\"fill:#ccebc5;stroke-width:2;stroke:rgb(255,255,255)\"/><rect x=\"605\" y=\"0\" width=\"55\" height=\"55\" style=\"fill:#ffed6f;stroke-width:2;stroke:rgb(255,255,255)\"/></svg>"
      ],
      "text/plain": [
       "[(0.5529411764705883, 0.8274509803921568, 0.7803921568627451),\n",
       " (1.0, 1.0, 0.7019607843137254),\n",
       " (0.7450980392156863, 0.7294117647058823, 0.8549019607843137),\n",
       " (0.984313725490196, 0.5019607843137255, 0.4470588235294118),\n",
       " (0.5019607843137255, 0.6941176470588235, 0.8274509803921568),\n",
       " (0.9921568627450981, 0.7058823529411765, 0.3843137254901961),\n",
       " (0.7019607843137254, 0.8705882352941177, 0.4117647058823529),\n",
       " (0.9882352941176471, 0.803921568627451, 0.8980392156862745),\n",
       " (0.8509803921568627, 0.8509803921568627, 0.8509803921568627),\n",
       " (0.7372549019607844, 0.5019607843137255, 0.7411764705882353),\n",
       " (0.8, 0.9215686274509803, 0.7725490196078432),\n",
       " (1.0, 0.9294117647058824, 0.43529411764705883)]"
      ]
     },
     "execution_count": 373,
     "metadata": {},
     "output_type": "execute_result"
    }
   ],
   "source": [
    "sns.set_style('darkgrid')\n",
    "\n",
    "PALETTE = \"Set3\"\n",
    "sns.set_palette(PALETTE)\n",
    "sns.color_palette(PALETTE)"
   ]
  },
  {
   "cell_type": "code",
   "execution_count": 374,
   "id": "0358fe61",
   "metadata": {},
   "outputs": [
    {
     "name": "stdout",
     "output_type": "stream",
     "text": [
      "Index(['App', 'Category', 'Rating', 'Reviews', 'Size', 'Installs', 'Type',\n",
      "       'Price', 'Content Rating', 'Genres', 'Last Updated', 'Current Ver',\n",
      "       'Android Ver'],\n",
      "      dtype='object')\n"
     ]
    }
   ],
   "source": [
    "print(df.columns)"
   ]
  },
  {
   "cell_type": "code",
   "execution_count": 375,
   "id": "890b3828",
   "metadata": {},
   "outputs": [
    {
     "name": "stdout",
     "output_type": "stream",
     "text": [
      "34\n"
     ]
    }
   ],
   "source": [
    "print(df['Category'].nunique())"
   ]
  },
  {
   "cell_type": "code",
   "execution_count": 376,
   "id": "e4e1ffed",
   "metadata": {},
   "outputs": [
    {
     "name": "stdout",
     "output_type": "stream",
     "text": [
      "['1.9', 'ART_AND_DESIGN', 'AUTO_AND_VEHICLES', 'BEAUTY', 'BOOKS_AND_REFERENCE', 'BUSINESS', 'COMICS', 'COMMUNICATION', 'DATING', 'EDUCATION', 'ENTERTAINMENT', 'EVENTS', 'FAMILY', 'FINANCE', 'FOOD_AND_DRINK', 'GAME', 'HEALTH_AND_FITNESS', 'HOUSE_AND_HOME', 'LIBRARIES_AND_DEMO', 'LIFESTYLE', 'MAPS_AND_NAVIGATION', 'MEDICAL', 'NEWS_AND_MAGAZINES', 'PARENTING', 'PERSONALIZATION', 'PHOTOGRAPHY', 'PRODUCTIVITY', 'SHOPPING', 'SOCIAL', 'SPORTS', 'TOOLS', 'TRAVEL_AND_LOCAL', 'VIDEO_PLAYERS', 'WEATHER']\n"
     ]
    }
   ],
   "source": [
    "from sklearn.preprocessing import LabelEncoder\n",
    "\n",
    "# Suppose you encoded 'Category'\n",
    "le = LabelEncoder()\n",
    "df['Category_encoded'] = le.fit_transform(df['Category'])\n",
    "\n",
    "# To see the mapping:\n",
    "print(list(le.classes_))"
   ]
  },
  {
   "cell_type": "markdown",
   "id": "364245f8",
   "metadata": {},
   "source": [
    "### Data preparing/cleaning "
   ]
  },
  {
   "cell_type": "code",
   "execution_count": 377,
   "id": "d3ac1f9b",
   "metadata": {},
   "outputs": [
    {
     "name": "stdout",
     "output_type": "stream",
     "text": [
      "Некорректных значений: 801 из 10841 (7.39%)\n",
      "<class 'pandas.core.frame.DataFrame'>\n",
      "Index: 9366 entries, 0 to 10840\n",
      "Data columns (total 14 columns):\n",
      " #   Column            Non-Null Count  Dtype  \n",
      "---  ------            --------------  -----  \n",
      " 0   App               9366 non-null   object \n",
      " 1   Category          9366 non-null   object \n",
      " 2   Rating            9366 non-null   float64\n",
      " 3   Reviews           9366 non-null   int64  \n",
      " 4   Size              9366 non-null   float64\n",
      " 5   Installs          9366 non-null   object \n",
      " 6   Type              9366 non-null   object \n",
      " 7   Price             9366 non-null   float64\n",
      " 8   Content Rating    9366 non-null   object \n",
      " 9   Genres            9366 non-null   object \n",
      " 10  Last Updated      9366 non-null   object \n",
      " 11  Current Ver       9362 non-null   object \n",
      " 12  Android Ver       9364 non-null   object \n",
      " 13  Category_encoded  9366 non-null   int64  \n",
      "dtypes: float64(3), int64(2), object(9)\n",
      "memory usage: 1.1+ MB\n",
      "Некорректных значений: 0 из 9366 (0.00%)\n"
     ]
    }
   ],
   "source": [
    "# Проверим сколько значений стали NaN при попытке конвертации\n",
    "price_before = df['Price'].copy()\n",
    "\n",
    "# Попробуем привести к числам, а некорректные сделаем NaN\n",
    "price_converted = pd.to_numeric(price_before, errors='coerce')\n",
    "\n",
    "# Посчитаем сколько значений стали NaN\n",
    "num_invalid = price_converted.isna().sum()\n",
    "total = len(price_before)\n",
    "\n",
    "print(f\"Некорректных значений: {num_invalid} из {total} ({num_invalid / total * 100:.2f}%)\")\n",
    "\n",
    "\n",
    "# Удаляем строки, где пропущены важные поля\n",
    "df = df.dropna(subset=['Rating', 'Installs', 'Type', 'Content Rating'])\n",
    "\n",
    "# Остальное заполняем\n",
    "df['Reviews'] = pd.to_numeric(df['Reviews'], errors='coerce') #ревьюс в числа\n",
    "df['Reviews'] = df['Reviews'].fillna(df['Reviews'].median())# там где пропущенно ставлю медиану\n",
    "\n",
    "df['Size'] = df['Size'].replace('Varies with device', np.nan) #эти мне не нравятся так что я убираю их чтобы потом заменить\n",
    "#дальше тут работа с ценой\n",
    "\n",
    "df['Price'] = df['Price'].fillna('0') # там где пропуски будет ноль\n",
    "\n",
    "#функция чтобы преобразовать миллионы тысячи которы в буквах\n",
    "def parse_size(size):\n",
    "    if isinstance(size, str):\n",
    "        size = size.strip()\n",
    "        if size.endswith('M'):\n",
    "            return float(size[:-1])\n",
    "        elif size.endswith('k'):\n",
    "            return float(size[:-1]) / 1024\n",
    "    return np.nan\n",
    "\n",
    "df['Size'] = df['Size'].apply(parse_size)\n",
    "df['Size'] = df['Size'].fillna(df['Size'].median())  # заполняем медианой\n",
    "\n",
    "df['Price'] = df['Price'].str.replace('$', '', regex=True) #нафиг знак доллара\n",
    "df['Price'] = pd.to_numeric(df['Price'], errors='coerce').fillna(0.0)#некорректные значения будут 00 и еще преобразует в числа\n",
    "\n",
    "\n",
    "\n",
    "# Быстрый обзор\n",
    "df.info()\n",
    "df.describe()\n",
    "df.head()\n",
    "\n",
    "# Проверим сколько значений стали NaN при попытке конвертации\n",
    "price_before = df['Price'].copy()\n",
    "\n",
    "# Попробуем привести к числам, а некорректные сделаем NaN\n",
    "price_converted = pd.to_numeric(price_before, errors='coerce')\n",
    "\n",
    "#  сколько значений стали NaN\n",
    "num_invalid = price_converted.isna().sum()\n",
    "total = len(price_before)\n",
    "\n",
    "print(f\"Некорректных значений: {num_invalid} из {total} ({num_invalid / total * 100:.2f}%)\")\n",
    "\n"
   ]
  },
  {
   "cell_type": "code",
   "execution_count": 378,
   "id": "de95f89c",
   "metadata": {},
   "outputs": [
    {
     "name": "stdout",
     "output_type": "stream",
     "text": [
      "<class 'pandas.core.frame.DataFrame'>\n",
      "Index: 9366 entries, 0 to 10840\n",
      "Data columns (total 14 columns):\n",
      " #   Column            Non-Null Count  Dtype  \n",
      "---  ------            --------------  -----  \n",
      " 0   App               9366 non-null   object \n",
      " 1   Category          9366 non-null   int64  \n",
      " 2   Rating            9366 non-null   float64\n",
      " 3   Reviews           9366 non-null   int64  \n",
      " 4   Size              9366 non-null   float64\n",
      " 5   Installs          9366 non-null   object \n",
      " 6   Type              9366 non-null   int64  \n",
      " 7   Price             9366 non-null   float64\n",
      " 8   Content Rating    9366 non-null   int64  \n",
      " 9   Genres            9366 non-null   object \n",
      " 10  Last Updated      9366 non-null   object \n",
      " 11  Current Ver       9362 non-null   object \n",
      " 12  Android Ver       9366 non-null   int64  \n",
      " 13  Category_encoded  9366 non-null   int64  \n",
      "dtypes: float64(3), int64(6), object(5)\n",
      "memory usage: 1.1+ MB\n"
     ]
    }
   ],
   "source": [
    "categoricals = ['Category', 'Type', 'Content Rating', 'Android Ver']\n",
    "le = LabelEncoder()\n",
    "\n",
    "for col in categoricals:\n",
    "    df[col] = le.fit_transform(df[col].astype(str))\n",
    "df.info()"
   ]
  },
  {
   "cell_type": "code",
   "execution_count": 379,
   "id": "71749560",
   "metadata": {},
   "outputs": [
    {
     "name": "stdout",
     "output_type": "stream",
     "text": [
      "0         3\n",
      "1         3\n",
      "2         3\n",
      "3         3\n",
      "4         3\n",
      "         ..\n",
      "10834    15\n",
      "10836    15\n",
      "10837    15\n",
      "10839     7\n",
      "10840    24\n",
      "Name: Genres, Length: 9366, dtype: int64\n",
      "<class 'pandas.core.frame.DataFrame'>\n",
      "Index: 9366 entries, 0 to 10840\n",
      "Data columns (total 15 columns):\n",
      " #   Column             Non-Null Count  Dtype         \n",
      "---  ------             --------------  -----         \n",
      " 0   App                9366 non-null   object        \n",
      " 1   Category           9366 non-null   int64         \n",
      " 2   Rating             9366 non-null   float64       \n",
      " 3   Reviews            9366 non-null   int64         \n",
      " 4   Size               9366 non-null   float64       \n",
      " 5   Installs           9366 non-null   object        \n",
      " 6   Type               9366 non-null   int64         \n",
      " 7   Price              9366 non-null   float64       \n",
      " 8   Content Rating     9366 non-null   int64         \n",
      " 9   Genres             9366 non-null   int64         \n",
      " 10  Last Updated       9366 non-null   datetime64[ns]\n",
      " 11  Current Ver        9362 non-null   object        \n",
      " 12  Android Ver        9366 non-null   int64         \n",
      " 13  Category_encoded   9366 non-null   int64         \n",
      " 14  Days Since Update  9366 non-null   int64         \n",
      "dtypes: datetime64[ns](1), float64(3), int64(8), object(3)\n",
      "memory usage: 1.1+ MB\n"
     ]
    }
   ],
   "source": [
    "df['Genres'] = df['Genres'].astype(str).apply(lambda x: x.split(';')[0])\n",
    "df['Genres'] = le.fit_transform(df['Genres'])\n",
    "print(df['Genres'])\n",
    "df['Last Updated'] = pd.to_datetime(df['Last Updated'])\n",
    "latest_date = df['Last Updated'].max()\n",
    "df['Days Since Update'] = (latest_date - df['Last Updated']).dt.days\n",
    "df.info()"
   ]
  },
  {
   "cell_type": "code",
   "execution_count": 380,
   "id": "621bf4ca",
   "metadata": {},
   "outputs": [
    {
     "name": "stdout",
     "output_type": "stream",
     "text": [
      "<class 'pandas.core.frame.DataFrame'>\n",
      "Index: 9366 entries, 0 to 10840\n",
      "Data columns (total 15 columns):\n",
      " #   Column             Non-Null Count  Dtype         \n",
      "---  ------             --------------  -----         \n",
      " 0   App                9366 non-null   object        \n",
      " 1   Category           9366 non-null   int64         \n",
      " 2   Rating             9366 non-null   float64       \n",
      " 3   Reviews            9366 non-null   int64         \n",
      " 4   Size               9366 non-null   float64       \n",
      " 5   Installs           9366 non-null   int64         \n",
      " 6   Type               9366 non-null   int64         \n",
      " 7   Price              9366 non-null   float64       \n",
      " 8   Content Rating     9366 non-null   int64         \n",
      " 9   Genres             9366 non-null   int64         \n",
      " 10  Last Updated       9366 non-null   datetime64[ns]\n",
      " 11  Current Ver        9362 non-null   object        \n",
      " 12  Android Ver        9366 non-null   int64         \n",
      " 13  Category_encoded   9366 non-null   int64         \n",
      " 14  Days Since Update  9366 non-null   int64         \n",
      "dtypes: datetime64[ns](1), float64(3), int64(9), object(2)\n",
      "memory usage: 1.1+ MB\n"
     ]
    }
   ],
   "source": [
    "# Step 1: Remove '+' and ',' characters\n",
    "df['Installs'] = df['Installs'].str.replace('[+,]', '', regex=True)\n",
    "\n",
    "# Step 2: Convert to numeric (float), coercing errors to NaN\n",
    "df['Installs'] = pd.to_numeric(df['Installs'], errors='coerce')\n",
    "\n",
    "# Step 3 (Optional but recommended): Drop or handle rows where 'Installs' couldn't be converted\n",
    "df = df.dropna(subset=['Installs'])\n",
    "\n",
    "# Step 4 (Optional): Cast to int if you're sure no decimals needed\n",
    "df['Installs'] = df['Installs'].astype(int)\n",
    "df.info()"
   ]
  },
  {
   "cell_type": "code",
   "execution_count": 381,
   "id": "dc7bbd56",
   "metadata": {},
   "outputs": [
    {
     "name": "stdout",
     "output_type": "stream",
     "text": [
      "33\n"
     ]
    }
   ],
   "source": [
    "print(df['Category'].nunique())"
   ]
  },
  {
   "cell_type": "code",
   "execution_count": 382,
   "id": "9f0b2d2e",
   "metadata": {},
   "outputs": [
    {
     "name": "stdout",
     "output_type": "stream",
     "text": [
      "[np.int64(0), np.int64(1), np.int64(2), np.int64(3), np.int64(4), np.int64(5), np.int64(6), np.int64(7), np.int64(8), np.int64(9), np.int64(10), np.int64(11), np.int64(12), np.int64(13), np.int64(14), np.int64(15), np.int64(16), np.int64(17), np.int64(18), np.int64(19), np.int64(20), np.int64(21), np.int64(22), np.int64(23), np.int64(24), np.int64(25), np.int64(26), np.int64(27), np.int64(28), np.int64(29), np.int64(30), np.int64(31), np.int64(32)]\n"
     ]
    }
   ],
   "source": [
    "from sklearn.preprocessing import LabelEncoder\n",
    "\n",
    "# Suppose you encoded 'Category'\n",
    "le = LabelEncoder()\n",
    "df['Category_encoded'] = le.fit_transform(df['Category'])\n",
    "\n",
    "# To see the mapping:\n",
    "print(list(le.classes_))"
   ]
  },
  {
   "cell_type": "code",
   "execution_count": 383,
   "id": "1c2fe5e9",
   "metadata": {},
   "outputs": [
    {
     "name": "stdout",
     "output_type": "stream",
     "text": [
      "<class 'pandas.core.frame.DataFrame'>\n",
      "Index: 9366 entries, 0 to 10840\n",
      "Data columns (total 12 columns):\n",
      " #   Column                 Non-Null Count  Dtype  \n",
      "---  ------                 --------------  -----  \n",
      " 0   Category               9366 non-null   int64  \n",
      " 1   Rating                 9366 non-null   float64\n",
      " 2   Reviews                9366 non-null   int64  \n",
      " 3   Size                   9366 non-null   float64\n",
      " 4   Installs               9366 non-null   int64  \n",
      " 5   Type                   9366 non-null   int64  \n",
      " 6   Price                  9366 non-null   float64\n",
      " 7   Content Rating         9366 non-null   int64  \n",
      " 8   Android Ver            9366 non-null   int64  \n",
      " 9   Category_encoded       9366 non-null   int64  \n",
      " 10  Success_Level          9366 non-null   object \n",
      " 11  Success_Level_Encoded  9366 non-null   int64  \n",
      "dtypes: float64(3), int64(8), object(1)\n",
      "memory usage: 951.2+ KB\n"
     ]
    }
   ],
   "source": [
    "\n",
    "\n",
    "# столбец успешности\n",
    "def get_success_level(installs):\n",
    "    if installs <= 10000:\n",
    "        return 'Not Successful'\n",
    "    elif installs <= 100000:\n",
    "        return 'Average'\n",
    "    elif installs <= 1000000:\n",
    "        return 'Above Average'\n",
    "    else:\n",
    "        return 'Successful'\n",
    "\n",
    "df['Success_Level'] = df['Installs'].apply(get_success_level)\n",
    "\n",
    "# Кодируем метки\n",
    "from sklearn.preprocessing import LabelEncoder\n",
    "le = LabelEncoder()\n",
    "df['Success_Level_Encoded'] = le.fit_transform(df['Success_Level'])\n",
    "#ненужное\n",
    "df = df.drop(columns=['App', 'Last Updated', 'Current Ver', 'Days Since Update','Genres'])\n",
    "df.info()\n"
   ]
  },
  {
   "cell_type": "code",
   "execution_count": 384,
   "id": "f1627b36",
   "metadata": {},
   "outputs": [
    {
     "data": {
      "text/html": [
       "<div>\n",
       "<style scoped>\n",
       "    .dataframe tbody tr th:only-of-type {\n",
       "        vertical-align: middle;\n",
       "    }\n",
       "\n",
       "    .dataframe tbody tr th {\n",
       "        vertical-align: top;\n",
       "    }\n",
       "\n",
       "    .dataframe thead th {\n",
       "        text-align: right;\n",
       "    }\n",
       "</style>\n",
       "<table border=\"1\" class=\"dataframe\">\n",
       "  <thead>\n",
       "    <tr style=\"text-align: right;\">\n",
       "      <th></th>\n",
       "      <th>Category</th>\n",
       "      <th>Rating</th>\n",
       "      <th>Reviews</th>\n",
       "      <th>Size</th>\n",
       "      <th>Installs</th>\n",
       "      <th>Type</th>\n",
       "      <th>Price</th>\n",
       "      <th>Content Rating</th>\n",
       "      <th>Android Ver</th>\n",
       "      <th>Category_encoded</th>\n",
       "      <th>Success_Level</th>\n",
       "      <th>Success_Level_Encoded</th>\n",
       "    </tr>\n",
       "  </thead>\n",
       "  <tbody>\n",
       "    <tr>\n",
       "      <th>0</th>\n",
       "      <td>0</td>\n",
       "      <td>4.1</td>\n",
       "      <td>159</td>\n",
       "      <td>19.0</td>\n",
       "      <td>10000</td>\n",
       "      <td>0</td>\n",
       "      <td>0.0</td>\n",
       "      <td>1</td>\n",
       "      <td>14</td>\n",
       "      <td>0</td>\n",
       "      <td>Not Successful</td>\n",
       "      <td>2</td>\n",
       "    </tr>\n",
       "    <tr>\n",
       "      <th>1</th>\n",
       "      <td>0</td>\n",
       "      <td>3.9</td>\n",
       "      <td>967</td>\n",
       "      <td>14.0</td>\n",
       "      <td>500000</td>\n",
       "      <td>0</td>\n",
       "      <td>0.0</td>\n",
       "      <td>1</td>\n",
       "      <td>14</td>\n",
       "      <td>0</td>\n",
       "      <td>Above Average</td>\n",
       "      <td>0</td>\n",
       "    </tr>\n",
       "    <tr>\n",
       "      <th>2</th>\n",
       "      <td>0</td>\n",
       "      <td>4.7</td>\n",
       "      <td>87510</td>\n",
       "      <td>8.7</td>\n",
       "      <td>5000000</td>\n",
       "      <td>0</td>\n",
       "      <td>0.0</td>\n",
       "      <td>1</td>\n",
       "      <td>14</td>\n",
       "      <td>0</td>\n",
       "      <td>Successful</td>\n",
       "      <td>3</td>\n",
       "    </tr>\n",
       "    <tr>\n",
       "      <th>3</th>\n",
       "      <td>0</td>\n",
       "      <td>4.5</td>\n",
       "      <td>215644</td>\n",
       "      <td>25.0</td>\n",
       "      <td>50000000</td>\n",
       "      <td>0</td>\n",
       "      <td>0.0</td>\n",
       "      <td>4</td>\n",
       "      <td>17</td>\n",
       "      <td>0</td>\n",
       "      <td>Successful</td>\n",
       "      <td>3</td>\n",
       "    </tr>\n",
       "    <tr>\n",
       "      <th>4</th>\n",
       "      <td>0</td>\n",
       "      <td>4.3</td>\n",
       "      <td>967</td>\n",
       "      <td>2.8</td>\n",
       "      <td>100000</td>\n",
       "      <td>0</td>\n",
       "      <td>0.0</td>\n",
       "      <td>1</td>\n",
       "      <td>19</td>\n",
       "      <td>0</td>\n",
       "      <td>Average</td>\n",
       "      <td>1</td>\n",
       "    </tr>\n",
       "  </tbody>\n",
       "</table>\n",
       "</div>"
      ],
      "text/plain": [
       "   Category  Rating  Reviews  Size  Installs  Type  Price  Content Rating  \\\n",
       "0         0     4.1      159  19.0     10000     0    0.0               1   \n",
       "1         0     3.9      967  14.0    500000     0    0.0               1   \n",
       "2         0     4.7    87510   8.7   5000000     0    0.0               1   \n",
       "3         0     4.5   215644  25.0  50000000     0    0.0               4   \n",
       "4         0     4.3      967   2.8    100000     0    0.0               1   \n",
       "\n",
       "   Android Ver  Category_encoded   Success_Level  Success_Level_Encoded  \n",
       "0           14                 0  Not Successful                      2  \n",
       "1           14                 0   Above Average                      0  \n",
       "2           14                 0      Successful                      3  \n",
       "3           17                 0      Successful                      3  \n",
       "4           19                 0         Average                      1  "
      ]
     },
     "execution_count": 384,
     "metadata": {},
     "output_type": "execute_result"
    }
   ],
   "source": [
    "df.head()"
   ]
  },
  {
   "cell_type": "code",
   "execution_count": 385,
   "id": "bb4eeca7",
   "metadata": {},
   "outputs": [
    {
     "name": "stdout",
     "output_type": "stream",
     "text": [
      "<bound method IndexOpsMixin.value_counts of 0        14\n",
      "1        14\n",
      "2        14\n",
      "3        17\n",
      "4        19\n",
      "         ..\n",
      "10834    16\n",
      "10836    16\n",
      "10837    16\n",
      "10839    30\n",
      "10840    30\n",
      "Name: Android Ver, Length: 9366, dtype: int64>\n"
     ]
    }
   ],
   "source": [
    "print(df[\"Android Ver\"].value_counts)"
   ]
  }
 ],
 "metadata": {
  "kernelspec": {
   "display_name": "Python 3",
   "language": "python",
   "name": "python3"
  },
  "language_info": {
   "codemirror_mode": {
    "name": "ipython",
    "version": 3
   },
   "file_extension": ".py",
   "mimetype": "text/x-python",
   "name": "python",
   "nbconvert_exporter": "python",
   "pygments_lexer": "ipython3",
   "version": "3.12.1"
  }
 },
 "nbformat": 4,
 "nbformat_minor": 5
}
