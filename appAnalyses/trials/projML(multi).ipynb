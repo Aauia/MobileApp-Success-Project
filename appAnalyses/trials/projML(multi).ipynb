{
 "cells": [
  {
   "cell_type": "markdown",
   "id": "1a3de5f0",
   "metadata": {},
   "source": [
    "Logistic Regression\n",
    "SVM\n",
    "Polynomial Regression "
   ]
  },
  {
   "cell_type": "markdown",
   "id": "54e08da3",
   "metadata": {},
   "source": [
    "Downloading dataset:"
   ]
  },
  {
   "cell_type": "code",
   "execution_count": 84,
   "id": "1270808d",
   "metadata": {},
   "outputs": [
    {
     "name": "stdout",
     "output_type": "stream",
     "text": [
      "Path to dataset files: C:\\Users\\111\\.cache\\kagglehub\\datasets\\lava18\\google-play-store-apps\\versions\\6\n"
     ]
    }
   ],
   "source": [
    "import kagglehub\n",
    "\n",
    "\n",
    "path = kagglehub.dataset_download(\"lava18/google-play-store-apps\")\n",
    "\n",
    "print(\"Path to dataset files:\", path)"
   ]
  },
  {
   "cell_type": "code",
   "execution_count": 85,
   "id": "63d22b0e",
   "metadata": {},
   "outputs": [
    {
     "name": "stdout",
     "output_type": "stream",
     "text": [
      "<class 'pandas.core.frame.DataFrame'>\n",
      "RangeIndex: 10841 entries, 0 to 10840\n",
      "Data columns (total 13 columns):\n",
      " #   Column          Non-Null Count  Dtype  \n",
      "---  ------          --------------  -----  \n",
      " 0   App             10841 non-null  object \n",
      " 1   Category        10841 non-null  object \n",
      " 2   Rating          9367 non-null   float64\n",
      " 3   Reviews         10841 non-null  object \n",
      " 4   Size            10841 non-null  object \n",
      " 5   Installs        10841 non-null  object \n",
      " 6   Type            10840 non-null  object \n",
      " 7   Price           10841 non-null  object \n",
      " 8   Content Rating  10840 non-null  object \n",
      " 9   Genres          10841 non-null  object \n",
      " 10  Last Updated    10841 non-null  object \n",
      " 11  Current Ver     10833 non-null  object \n",
      " 12  Android Ver     10838 non-null  object \n",
      "dtypes: float64(1), object(12)\n",
      "memory usage: 1.1+ MB\n"
     ]
    },
    {
     "data": {
      "text/html": [
       "<div>\n",
       "<style scoped>\n",
       "    .dataframe tbody tr th:only-of-type {\n",
       "        vertical-align: middle;\n",
       "    }\n",
       "\n",
       "    .dataframe tbody tr th {\n",
       "        vertical-align: top;\n",
       "    }\n",
       "\n",
       "    .dataframe thead th {\n",
       "        text-align: right;\n",
       "    }\n",
       "</style>\n",
       "<table border=\"1\" class=\"dataframe\">\n",
       "  <thead>\n",
       "    <tr style=\"text-align: right;\">\n",
       "      <th></th>\n",
       "      <th>App</th>\n",
       "      <th>Category</th>\n",
       "      <th>Rating</th>\n",
       "      <th>Reviews</th>\n",
       "      <th>Size</th>\n",
       "      <th>Installs</th>\n",
       "      <th>Type</th>\n",
       "      <th>Price</th>\n",
       "      <th>Content Rating</th>\n",
       "      <th>Genres</th>\n",
       "      <th>Last Updated</th>\n",
       "      <th>Current Ver</th>\n",
       "      <th>Android Ver</th>\n",
       "    </tr>\n",
       "  </thead>\n",
       "  <tbody>\n",
       "    <tr>\n",
       "      <th>0</th>\n",
       "      <td>Photo Editor &amp; Candy Camera &amp; Grid &amp; ScrapBook</td>\n",
       "      <td>ART_AND_DESIGN</td>\n",
       "      <td>4.1</td>\n",
       "      <td>159</td>\n",
       "      <td>19M</td>\n",
       "      <td>10,000+</td>\n",
       "      <td>Free</td>\n",
       "      <td>0</td>\n",
       "      <td>Everyone</td>\n",
       "      <td>Art &amp; Design</td>\n",
       "      <td>January 7, 2018</td>\n",
       "      <td>1.0.0</td>\n",
       "      <td>4.0.3 and up</td>\n",
       "    </tr>\n",
       "    <tr>\n",
       "      <th>1</th>\n",
       "      <td>Coloring book moana</td>\n",
       "      <td>ART_AND_DESIGN</td>\n",
       "      <td>3.9</td>\n",
       "      <td>967</td>\n",
       "      <td>14M</td>\n",
       "      <td>500,000+</td>\n",
       "      <td>Free</td>\n",
       "      <td>0</td>\n",
       "      <td>Everyone</td>\n",
       "      <td>Art &amp; Design;Pretend Play</td>\n",
       "      <td>January 15, 2018</td>\n",
       "      <td>2.0.0</td>\n",
       "      <td>4.0.3 and up</td>\n",
       "    </tr>\n",
       "    <tr>\n",
       "      <th>2</th>\n",
       "      <td>U Launcher Lite – FREE Live Cool Themes, Hide ...</td>\n",
       "      <td>ART_AND_DESIGN</td>\n",
       "      <td>4.7</td>\n",
       "      <td>87510</td>\n",
       "      <td>8.7M</td>\n",
       "      <td>5,000,000+</td>\n",
       "      <td>Free</td>\n",
       "      <td>0</td>\n",
       "      <td>Everyone</td>\n",
       "      <td>Art &amp; Design</td>\n",
       "      <td>August 1, 2018</td>\n",
       "      <td>1.2.4</td>\n",
       "      <td>4.0.3 and up</td>\n",
       "    </tr>\n",
       "    <tr>\n",
       "      <th>3</th>\n",
       "      <td>Sketch - Draw &amp; Paint</td>\n",
       "      <td>ART_AND_DESIGN</td>\n",
       "      <td>4.5</td>\n",
       "      <td>215644</td>\n",
       "      <td>25M</td>\n",
       "      <td>50,000,000+</td>\n",
       "      <td>Free</td>\n",
       "      <td>0</td>\n",
       "      <td>Teen</td>\n",
       "      <td>Art &amp; Design</td>\n",
       "      <td>June 8, 2018</td>\n",
       "      <td>Varies with device</td>\n",
       "      <td>4.2 and up</td>\n",
       "    </tr>\n",
       "    <tr>\n",
       "      <th>4</th>\n",
       "      <td>Pixel Draw - Number Art Coloring Book</td>\n",
       "      <td>ART_AND_DESIGN</td>\n",
       "      <td>4.3</td>\n",
       "      <td>967</td>\n",
       "      <td>2.8M</td>\n",
       "      <td>100,000+</td>\n",
       "      <td>Free</td>\n",
       "      <td>0</td>\n",
       "      <td>Everyone</td>\n",
       "      <td>Art &amp; Design;Creativity</td>\n",
       "      <td>June 20, 2018</td>\n",
       "      <td>1.1</td>\n",
       "      <td>4.4 and up</td>\n",
       "    </tr>\n",
       "  </tbody>\n",
       "</table>\n",
       "</div>"
      ],
      "text/plain": [
       "                                                 App        Category  Rating  \\\n",
       "0     Photo Editor & Candy Camera & Grid & ScrapBook  ART_AND_DESIGN     4.1   \n",
       "1                                Coloring book moana  ART_AND_DESIGN     3.9   \n",
       "2  U Launcher Lite – FREE Live Cool Themes, Hide ...  ART_AND_DESIGN     4.7   \n",
       "3                              Sketch - Draw & Paint  ART_AND_DESIGN     4.5   \n",
       "4              Pixel Draw - Number Art Coloring Book  ART_AND_DESIGN     4.3   \n",
       "\n",
       "  Reviews  Size     Installs  Type Price Content Rating  \\\n",
       "0     159   19M      10,000+  Free     0       Everyone   \n",
       "1     967   14M     500,000+  Free     0       Everyone   \n",
       "2   87510  8.7M   5,000,000+  Free     0       Everyone   \n",
       "3  215644   25M  50,000,000+  Free     0           Teen   \n",
       "4     967  2.8M     100,000+  Free     0       Everyone   \n",
       "\n",
       "                      Genres      Last Updated         Current Ver  \\\n",
       "0               Art & Design   January 7, 2018               1.0.0   \n",
       "1  Art & Design;Pretend Play  January 15, 2018               2.0.0   \n",
       "2               Art & Design    August 1, 2018               1.2.4   \n",
       "3               Art & Design      June 8, 2018  Varies with device   \n",
       "4    Art & Design;Creativity     June 20, 2018                 1.1   \n",
       "\n",
       "    Android Ver  \n",
       "0  4.0.3 and up  \n",
       "1  4.0.3 and up  \n",
       "2  4.0.3 and up  \n",
       "3    4.2 and up  \n",
       "4    4.4 and up  "
      ]
     },
     "execution_count": 85,
     "metadata": {},
     "output_type": "execute_result"
    }
   ],
   "source": [
    "#downloading and checking\n",
    "import pandas as pd\n",
    "import numpy as np\n",
    "import matplotlib.pyplot as plt\n",
    "import seaborn as sns\n",
    "from sklearn.preprocessing import LabelEncoder\n",
    "\n",
    "\n",
    "# Загрузка датасета\n",
    "df = pd.read_csv('googleplaystore.csv')\n",
    "\n",
    "# Быстрый обзор\n",
    "df.info()\n",
    "df.describe()\n",
    "df.head()\n"
   ]
  },
  {
   "cell_type": "markdown",
   "id": "f3c12d7e",
   "metadata": {},
   "source": [
    "Finding missing values"
   ]
  },
  {
   "cell_type": "code",
   "execution_count": 86,
   "id": "0a9d4e72",
   "metadata": {},
   "outputs": [
    {
     "data": {
      "image/png": "[encoded data removed]",
      "text/plain": [
       "<Figure size 1200x600 with 1 Axes>"
      ]
     },
     "metadata": {},
     "output_type": "display_data"
    }
   ],
   "source": [
    "plt.figure(figsize=(12,6))\n",
    "sns.heatmap(df.isnull(), cbar=False, cmap='Reds') #df.isnull()  создаёт DataFrame из True/False, где True = пропущено (NaN)\n",
    "plt.title(\"Missing Values in Dataset\")\n",
    "plt.show()\n"
   ]
  },
  {
   "cell_type": "code",
   "execution_count": 87,
   "id": "5f002021",
   "metadata": {},
   "outputs": [
    {
     "data": {
      "image/png": "[encoded data removed]",
      "text/plain": [
       "<Figure size 1500x1000 with 1 Axes>"
      ]
     },
     "metadata": {},
     "output_type": "display_data"
    }
   ],
   "source": [
    "numeric_cols = df.select_dtypes(include=['int64', 'float64']).columns\n",
    "\n",
    "df[numeric_cols].hist(figsize=(15,10), bins=30)\n",
    "plt.suptitle(\"Distribution of Numeric Features\")\n",
    "plt.tight_layout()\n",
    "plt.show()\n"
   ]
  },
  {
   "cell_type": "markdown",
   "id": "4b116737",
   "metadata": {},
   "source": [
    "Тут ищу выбросы(outliers)\n",
    "Boxplot показывает:\n",
    "\n",
    "Медиану (линия внутри ящика)\n",
    "\n",
    "25-й и 75-й перцентиль (границы ящика)\n",
    "\n",
    "\"Усы\" — значения, лежащие в пределах 1.5 * IQR (межквартильного размаха)\n",
    "\n",
    "Выбросы — точки за пределами усов (маленькие кружочки)\n",
    "\n",
    " нужно чтобы визуально оценить распределение числовых признаков и найти:\n",
    "\n",
    "выбросы (outliers)\n",
    "\n",
    "асимметрию\n",
    "\n",
    "возможную нормализацию / лог-преобразование"
   ]
  },
  {
   "cell_type": "code",
   "execution_count": 88,
   "id": "1f843417",
   "metadata": {},
   "outputs": [
    {
     "data": {
      "image/png": "[encoded data removed]",
      "text/plain": [
       "<Figure size 1500x600 with 1 Axes>"
      ]
     },
     "metadata": {},
     "output_type": "display_data"
    }
   ],
   "source": [
    "plt.figure(figsize=(15, 6))\n",
    "for i, col in enumerate(numeric_cols[:5], 1):  # первые 5 признаков\n",
    "    plt.subplot(1, 5, i)\n",
    "    sns.boxplot(y=df[col])\n",
    "    plt.title(col)\n",
    "plt.tight_layout()\n",
    "plt.show()\n"
   ]
  },
  {
   "cell_type": "code",
   "execution_count": 89,
   "id": "9f2693de",
   "metadata": {},
   "outputs": [
    {
     "name": "stdout",
     "output_type": "stream",
     "text": [
      "                                           App Category  Rating Reviews  \\\n",
      "10472  Life Made WI-Fi Touchscreen Photo Frame      1.9    19.0    3.0M   \n",
      "\n",
      "         Size Installs Type     Price Content Rating             Genres  \\\n",
      "10472  1,000+     Free    0  Everyone            NaN  February 11, 2018   \n",
      "\n",
      "      Last Updated Current Ver Android Ver  \n",
      "10472       1.0.19  4.0 and up         NaN  \n"
     ]
    },
    {
     "data": {
      "image/png": "[encoded data removed]",
      "text/plain": [
       "<Figure size 400x800 with 1 Axes>"
      ]
     },
     "metadata": {},
     "output_type": "display_data"
    }
   ],
   "source": [
    "# Посмотрим значения больше 5 (что не должно быть в рейтинге)\n",
    "bad_ratings = df[df['Rating'] > 5]\n",
    "print(bad_ratings)\n",
    "# Фильтруем только корректные рейтинги (от 1 до 5)\n",
    "df_clean = df[(df['Rating'] >= 1) & (df['Rating'] <= 5)]\n",
    "import seaborn as sns\n",
    "import matplotlib.pyplot as plt\n",
    "\n",
    "plt.figure(figsize=(4, 8))\n",
    "sns.boxplot(y=df_clean['Rating'])\n",
    "plt.title(\"Cleaned Rating Distribution\")\n",
    "plt.show()\n",
    "\n"
   ]
  },
  {
   "cell_type": "code",
   "execution_count": 90,
   "id": "6da3d6ba",
   "metadata": {},
   "outputs": [
    {
     "data": {
      "image/png": "[encoded data removed]",
      "text/plain": [
       "<Figure size 1200x1000 with 2 Axes>"
      ]
     },
     "metadata": {},
     "output_type": "display_data"
    }
   ],
   "source": [
    "plt.figure(figsize=(12,10))\n",
    "corr_matrix = df.corr(numeric_only=True)\n",
    "sns.heatmap(corr_matrix, annot=True, cmap='coolwarm', fmt='.2f')\n",
    "plt.title(\"Correlation Matrix\")\n",
    "plt.show()\n"
   ]
  },
  {
   "cell_type": "markdown",
   "id": "e9ac000f",
   "metadata": {},
   "source": [
    "тут так потому что рейтинг единственный нумерикал"
   ]
  },
  {
   "cell_type": "markdown",
   "id": "86d1617d",
   "metadata": {},
   "source": [
    "preparing data"
   ]
  },
  {
   "cell_type": "code",
   "execution_count": 91,
   "id": "eefeb0b1",
   "metadata": {},
   "outputs": [
    {
     "name": "stdout",
     "output_type": "stream",
     "text": [
      "Некорректных значений: 801 из 10841 (7.39%)\n",
      "<class 'pandas.core.frame.DataFrame'>\n",
      "Index: 9366 entries, 0 to 10840\n",
      "Data columns (total 13 columns):\n",
      " #   Column          Non-Null Count  Dtype  \n",
      "---  ------          --------------  -----  \n",
      " 0   App             9366 non-null   object \n",
      " 1   Category        9366 non-null   object \n",
      " 2   Rating          9366 non-null   float64\n",
      " 3   Reviews         9366 non-null   int64  \n",
      " 4   Size            9366 non-null   float64\n",
      " 5   Installs        9366 non-null   object \n",
      " 6   Type            9366 non-null   object \n",
      " 7   Price           9366 non-null   float64\n",
      " 8   Content Rating  9366 non-null   object \n",
      " 9   Genres          9366 non-null   object \n",
      " 10  Last Updated    9366 non-null   object \n",
      " 11  Current Ver     9362 non-null   object \n",
      " 12  Android Ver     9364 non-null   object \n",
      "dtypes: float64(3), int64(1), object(9)\n",
      "memory usage: 1.0+ MB\n",
      "Некорректных значений: 0 из 9366 (0.00%)\n"
     ]
    }
   ],
   "source": [
    "# Проверим сколько значений стали NaN при попытке конвертации\n",
    "price_before = df['Price'].copy()\n",
    "\n",
    "# Попробуем привести к числам, а некорректные сделаем NaN\n",
    "price_converted = pd.to_numeric(price_before, errors='coerce')\n",
    "\n",
    "# Посчитаем сколько значений стали NaN\n",
    "num_invalid = price_converted.isna().sum()\n",
    "total = len(price_before)\n",
    "\n",
    "print(f\"Некорректных значений: {num_invalid} из {total} ({num_invalid / total * 100:.2f}%)\")\n",
    "\n",
    "\n",
    "\n",
    "\n",
    "\n",
    "# Удаляем строки, где пропущены важные поля\n",
    "df = df.dropna(subset=['Rating', 'Installs', 'Type', 'Content Rating'])\n",
    "\n",
    "# Остальное заполняем\n",
    "df['Reviews'] = pd.to_numeric(df['Reviews'], errors='coerce') #ревьюс в числа\n",
    "df['Reviews'] = df['Reviews'].fillna(df['Reviews'].median())# там где пропущенно ставлю медиану\n",
    "\n",
    "df['Size'] = df['Size'].replace('Varies with device', np.nan) #эти мне не нравятся так что я убираю их чтобы потом заменить\n",
    "#дальше тут работа с ценой\n",
    "\n",
    "df['Price'] = df['Price'].fillna('0') # там где пропуски будет ноль\n",
    "\n",
    "#функция чтобы преобразовать миллионы тысячи которы в буквах\n",
    "def parse_size(size):\n",
    "    if isinstance(size, str):\n",
    "        size = size.strip()\n",
    "        if size.endswith('M'):\n",
    "            return float(size[:-1])\n",
    "        elif size.endswith('k'):\n",
    "            return float(size[:-1]) / 1024\n",
    "    return np.nan\n",
    "\n",
    "df['Size'] = df['Size'].apply(parse_size)\n",
    "df['Size'] = df['Size'].fillna(df['Size'].median())  # заполняем медианой\n",
    "\n",
    "df['Price'] = df['Price'].str.replace('$', '', regex=True) #нафиг знак доллара\n",
    "df['Price'] = pd.to_numeric(df['Price'], errors='coerce').fillna(0.0)#некорректные значения будут 00 и еще преобразует в числа\n",
    "\n",
    "\n",
    "\n",
    "# Быстрый обзор\n",
    "df.info()\n",
    "df.describe()\n",
    "df.head()\n",
    "\n",
    "\n",
    "\n",
    "\n",
    "\n",
    "# Проверим сколько значений стали NaN при попытке конвертации\n",
    "price_before = df['Price'].copy()\n",
    "\n",
    "# Попробуем привести к числам, а некорректные сделаем NaN\n",
    "price_converted = pd.to_numeric(price_before, errors='coerce')\n",
    "\n",
    "#  сколько значений стали NaN\n",
    "num_invalid = price_converted.isna().sum()\n",
    "total = len(price_before)\n",
    "\n",
    "print(f\"Некорректных значений: {num_invalid} из {total} ({num_invalid / total * 100:.2f}%)\")\n",
    "\n",
    "\n"
   ]
  },
  {
   "cell_type": "code",
   "execution_count": 92,
   "id": "c93aa936",
   "metadata": {},
   "outputs": [],
   "source": [
    "# Чистим скачивания от плюсов\n",
    "df['Installs'] = df['Installs'].str.replace('[+,]', '', regex=True).astype(int)\n",
    "\n",
    "# столбец успешности\n",
    "def get_success_level(installs):\n",
    "    if installs <= 10000:\n",
    "        return 'Not Successful'\n",
    "    elif installs <= 100000:\n",
    "        return 'Average'\n",
    "    elif installs <= 1000000:\n",
    "        return 'Above Average'\n",
    "    else:\n",
    "        return 'Successful'\n",
    "\n",
    "df['Success_Level'] = df['Installs'].apply(get_success_level)\n",
    "\n",
    "# Кодируем метки\n",
    "from sklearn.preprocessing import LabelEncoder\n",
    "le = LabelEncoder()\n",
    "df['Success_Level_Encoded'] = le.fit_transform(df['Success_Level'])\n",
    "#ненужное\n",
    "df = df.drop(columns=['App', 'Last Updated', 'Current Ver', 'Android Ver'])\n",
    "\n",
    "\n"
   ]
  },
  {
   "cell_type": "code",
   "execution_count": 93,
   "id": "66455689",
   "metadata": {},
   "outputs": [
    {
     "name": "stdout",
     "output_type": "stream",
     "text": [
      "<class 'pandas.core.frame.DataFrame'>\n",
      "Index: 9366 entries, 0 to 10840\n",
      "Data columns (total 11 columns):\n",
      " #   Column                 Non-Null Count  Dtype  \n",
      "---  ------                 --------------  -----  \n",
      " 0   Category               9366 non-null   object \n",
      " 1   Rating                 9366 non-null   float64\n",
      " 2   Reviews                9366 non-null   int64  \n",
      " 3   Size                   9366 non-null   float64\n",
      " 4   Installs               9366 non-null   int64  \n",
      " 5   Type                   9366 non-null   object \n",
      " 6   Price                  9366 non-null   float64\n",
      " 7   Content Rating         9366 non-null   object \n",
      " 8   Genres                 9366 non-null   object \n",
      " 9   Success_Level          9366 non-null   object \n",
      " 10  Success_Level_Encoded  9366 non-null   int64  \n",
      "dtypes: float64(3), int64(3), object(5)\n",
      "memory usage: 878.1+ KB\n"
     ]
    },
    {
     "data": {
      "text/html": [
       "<div>\n",
       "<style scoped>\n",
       "    .dataframe tbody tr th:only-of-type {\n",
       "        vertical-align: middle;\n",
       "    }\n",
       "\n",
       "    .dataframe tbody tr th {\n",
       "        vertical-align: top;\n",
       "    }\n",
       "\n",
       "    .dataframe thead th {\n",
       "        text-align: right;\n",
       "    }\n",
       "</style>\n",
       "<table border=\"1\" class=\"dataframe\">\n",
       "  <thead>\n",
       "    <tr style=\"text-align: right;\">\n",
       "      <th></th>\n",
       "      <th>Category</th>\n",
       "      <th>Rating</th>\n",
       "      <th>Reviews</th>\n",
       "      <th>Size</th>\n",
       "      <th>Installs</th>\n",
       "      <th>Type</th>\n",
       "      <th>Price</th>\n",
       "      <th>Content Rating</th>\n",
       "      <th>Genres</th>\n",
       "      <th>Success_Level</th>\n",
       "      <th>Success_Level_Encoded</th>\n",
       "    </tr>\n",
       "  </thead>\n",
       "  <tbody>\n",
       "    <tr>\n",
       "      <th>0</th>\n",
       "      <td>ART_AND_DESIGN</td>\n",
       "      <td>4.1</td>\n",
       "      <td>159</td>\n",
       "      <td>19.0</td>\n",
       "      <td>10000</td>\n",
       "      <td>Free</td>\n",
       "      <td>0.0</td>\n",
       "      <td>Everyone</td>\n",
       "      <td>Art &amp; Design</td>\n",
       "      <td>Not Successful</td>\n",
       "      <td>2</td>\n",
       "    </tr>\n",
       "    <tr>\n",
       "      <th>1</th>\n",
       "      <td>ART_AND_DESIGN</td>\n",
       "      <td>3.9</td>\n",
       "      <td>967</td>\n",
       "      <td>14.0</td>\n",
       "      <td>500000</td>\n",
       "      <td>Free</td>\n",
       "      <td>0.0</td>\n",
       "      <td>Everyone</td>\n",
       "      <td>Art &amp; Design;Pretend Play</td>\n",
       "      <td>Above Average</td>\n",
       "      <td>0</td>\n",
       "    </tr>\n",
       "    <tr>\n",
       "      <th>2</th>\n",
       "      <td>ART_AND_DESIGN</td>\n",
       "      <td>4.7</td>\n",
       "      <td>87510</td>\n",
       "      <td>8.7</td>\n",
       "      <td>5000000</td>\n",
       "      <td>Free</td>\n",
       "      <td>0.0</td>\n",
       "      <td>Everyone</td>\n",
       "      <td>Art &amp; Design</td>\n",
       "      <td>Successful</td>\n",
       "      <td>3</td>\n",
       "    </tr>\n",
       "    <tr>\n",
       "      <th>3</th>\n",
       "      <td>ART_AND_DESIGN</td>\n",
       "      <td>4.5</td>\n",
       "      <td>215644</td>\n",
       "      <td>25.0</td>\n",
       "      <td>50000000</td>\n",
       "      <td>Free</td>\n",
       "      <td>0.0</td>\n",
       "      <td>Teen</td>\n",
       "      <td>Art &amp; Design</td>\n",
       "      <td>Successful</td>\n",
       "      <td>3</td>\n",
       "    </tr>\n",
       "    <tr>\n",
       "      <th>4</th>\n",
       "      <td>ART_AND_DESIGN</td>\n",
       "      <td>4.3</td>\n",
       "      <td>967</td>\n",
       "      <td>2.8</td>\n",
       "      <td>100000</td>\n",
       "      <td>Free</td>\n",
       "      <td>0.0</td>\n",
       "      <td>Everyone</td>\n",
       "      <td>Art &amp; Design;Creativity</td>\n",
       "      <td>Average</td>\n",
       "      <td>1</td>\n",
       "    </tr>\n",
       "  </tbody>\n",
       "</table>\n",
       "</div>"
      ],
      "text/plain": [
       "         Category  Rating  Reviews  Size  Installs  Type  Price  \\\n",
       "0  ART_AND_DESIGN     4.1      159  19.0     10000  Free    0.0   \n",
       "1  ART_AND_DESIGN     3.9      967  14.0    500000  Free    0.0   \n",
       "2  ART_AND_DESIGN     4.7    87510   8.7   5000000  Free    0.0   \n",
       "3  ART_AND_DESIGN     4.5   215644  25.0  50000000  Free    0.0   \n",
       "4  ART_AND_DESIGN     4.3      967   2.8    100000  Free    0.0   \n",
       "\n",
       "  Content Rating                     Genres   Success_Level  \\\n",
       "0       Everyone               Art & Design  Not Successful   \n",
       "1       Everyone  Art & Design;Pretend Play   Above Average   \n",
       "2       Everyone               Art & Design      Successful   \n",
       "3           Teen               Art & Design      Successful   \n",
       "4       Everyone    Art & Design;Creativity         Average   \n",
       "\n",
       "   Success_Level_Encoded  \n",
       "0                      2  \n",
       "1                      0  \n",
       "2                      3  \n",
       "3                      3  \n",
       "4                      1  "
      ]
     },
     "execution_count": 93,
     "metadata": {},
     "output_type": "execute_result"
    }
   ],
   "source": [
    "df.info()\n",
    "df.describe()\n",
    "df.head()"
   ]
  },
  {
   "cell_type": "code",
   "execution_count": 94,
   "id": "18559d19",
   "metadata": {},
   "outputs": [
    {
     "data": {
      "text/plain": [
       "\"features = ['Category', 'Rating', 'Reviews', 'Size', 'Type', 'Price', 'Content Rating']\\ntarget = 'Success_Level_Encoded'\\n\\nX = df[features]\\ny = df[target]\\n\""
      ]
     },
     "execution_count": 94,
     "metadata": {},
     "output_type": "execute_result"
    }
   ],
   "source": [
    "'''features = ['Category', 'Rating', 'Reviews', 'Size', 'Type', 'Price', 'Content Rating']\n",
    "target = 'Success_Level_Encoded'\n",
    "\n",
    "X = df[features]\n",
    "y = df[target]\n",
    "'''"
   ]
  },
  {
   "cell_type": "code",
   "execution_count": 95,
   "id": "eaadd147",
   "metadata": {},
   "outputs": [
    {
     "data": {
      "text/plain": [
       "\"from sklearn.compose import ColumnTransformer\\nfrom sklearn.preprocessing import OneHotEncoder, StandardScaler\\n\\ncategorical_features = ['Category', 'Type', 'Content Rating']\\nnumeric_features = ['Rating', 'Reviews', 'Size', 'Price']\\n\\npreprocessor = ColumnTransformer(transformers=[\\n    ('num', StandardScaler(), numeric_features),\\n    ('cat', OneHotEncoder(handle_unknown='ignore'), categorical_features)\\n])\\n\""
      ]
     },
     "execution_count": 95,
     "metadata": {},
     "output_type": "execute_result"
    }
   ],
   "source": [
    "'''from sklearn.compose import ColumnTransformer\n",
    "from sklearn.preprocessing import OneHotEncoder, StandardScaler\n",
    "\n",
    "categorical_features = ['Category', 'Type', 'Content Rating']\n",
    "numeric_features = ['Rating', 'Reviews', 'Size', 'Price']\n",
    "\n",
    "preprocessor = ColumnTransformer(transformers=[\n",
    "    ('num', StandardScaler(), numeric_features),\n",
    "    ('cat', OneHotEncoder(handle_unknown='ignore'), categorical_features)\n",
    "])\n",
    "'''"
   ]
  },
  {
   "cell_type": "code",
   "execution_count": 96,
   "id": "28e23bad",
   "metadata": {},
   "outputs": [
    {
     "name": "stdout",
     "output_type": "stream",
     "text": [
      "<class 'pandas.core.frame.DataFrame'>\n",
      "Index: 9366 entries, 0 to 10840\n",
      "Data columns (total 11 columns):\n",
      " #   Column                 Non-Null Count  Dtype  \n",
      "---  ------                 --------------  -----  \n",
      " 0   Category               9366 non-null   object \n",
      " 1   Rating                 9366 non-null   float64\n",
      " 2   Reviews                9366 non-null   int64  \n",
      " 3   Size                   9366 non-null   float64\n",
      " 4   Installs               9366 non-null   int64  \n",
      " 5   Type                   9366 non-null   object \n",
      " 6   Price                  9366 non-null   float64\n",
      " 7   Content Rating         9366 non-null   object \n",
      " 8   Genres                 9366 non-null   object \n",
      " 9   Success_Level          9366 non-null   object \n",
      " 10  Success_Level_Encoded  9366 non-null   int64  \n",
      "dtypes: float64(3), int64(3), object(5)\n",
      "memory usage: 878.1+ KB\n"
     ]
    },
    {
     "data": {
      "text/html": [
       "<div>\n",
       "<style scoped>\n",
       "    .dataframe tbody tr th:only-of-type {\n",
       "        vertical-align: middle;\n",
       "    }\n",
       "\n",
       "    .dataframe tbody tr th {\n",
       "        vertical-align: top;\n",
       "    }\n",
       "\n",
       "    .dataframe thead th {\n",
       "        text-align: right;\n",
       "    }\n",
       "</style>\n",
       "<table border=\"1\" class=\"dataframe\">\n",
       "  <thead>\n",
       "    <tr style=\"text-align: right;\">\n",
       "      <th></th>\n",
       "      <th>Category</th>\n",
       "      <th>Rating</th>\n",
       "      <th>Reviews</th>\n",
       "      <th>Size</th>\n",
       "      <th>Installs</th>\n",
       "      <th>Type</th>\n",
       "      <th>Price</th>\n",
       "      <th>Content Rating</th>\n",
       "      <th>Genres</th>\n",
       "      <th>Success_Level</th>\n",
       "      <th>Success_Level_Encoded</th>\n",
       "    </tr>\n",
       "  </thead>\n",
       "  <tbody>\n",
       "    <tr>\n",
       "      <th>0</th>\n",
       "      <td>ART_AND_DESIGN</td>\n",
       "      <td>4.1</td>\n",
       "      <td>159</td>\n",
       "      <td>19.0</td>\n",
       "      <td>10000</td>\n",
       "      <td>Free</td>\n",
       "      <td>0.0</td>\n",
       "      <td>Everyone</td>\n",
       "      <td>Art &amp; Design</td>\n",
       "      <td>Not Successful</td>\n",
       "      <td>2</td>\n",
       "    </tr>\n",
       "    <tr>\n",
       "      <th>1</th>\n",
       "      <td>ART_AND_DESIGN</td>\n",
       "      <td>3.9</td>\n",
       "      <td>967</td>\n",
       "      <td>14.0</td>\n",
       "      <td>500000</td>\n",
       "      <td>Free</td>\n",
       "      <td>0.0</td>\n",
       "      <td>Everyone</td>\n",
       "      <td>Art &amp; Design;Pretend Play</td>\n",
       "      <td>Above Average</td>\n",
       "      <td>0</td>\n",
       "    </tr>\n",
       "    <tr>\n",
       "      <th>2</th>\n",
       "      <td>ART_AND_DESIGN</td>\n",
       "      <td>4.7</td>\n",
       "      <td>87510</td>\n",
       "      <td>8.7</td>\n",
       "      <td>5000000</td>\n",
       "      <td>Free</td>\n",
       "      <td>0.0</td>\n",
       "      <td>Everyone</td>\n",
       "      <td>Art &amp; Design</td>\n",
       "      <td>Successful</td>\n",
       "      <td>3</td>\n",
       "    </tr>\n",
       "    <tr>\n",
       "      <th>3</th>\n",
       "      <td>ART_AND_DESIGN</td>\n",
       "      <td>4.5</td>\n",
       "      <td>215644</td>\n",
       "      <td>25.0</td>\n",
       "      <td>50000000</td>\n",
       "      <td>Free</td>\n",
       "      <td>0.0</td>\n",
       "      <td>Teen</td>\n",
       "      <td>Art &amp; Design</td>\n",
       "      <td>Successful</td>\n",
       "      <td>3</td>\n",
       "    </tr>\n",
       "    <tr>\n",
       "      <th>4</th>\n",
       "      <td>ART_AND_DESIGN</td>\n",
       "      <td>4.3</td>\n",
       "      <td>967</td>\n",
       "      <td>2.8</td>\n",
       "      <td>100000</td>\n",
       "      <td>Free</td>\n",
       "      <td>0.0</td>\n",
       "      <td>Everyone</td>\n",
       "      <td>Art &amp; Design;Creativity</td>\n",
       "      <td>Average</td>\n",
       "      <td>1</td>\n",
       "    </tr>\n",
       "  </tbody>\n",
       "</table>\n",
       "</div>"
      ],
      "text/plain": [
       "         Category  Rating  Reviews  Size  Installs  Type  Price  \\\n",
       "0  ART_AND_DESIGN     4.1      159  19.0     10000  Free    0.0   \n",
       "1  ART_AND_DESIGN     3.9      967  14.0    500000  Free    0.0   \n",
       "2  ART_AND_DESIGN     4.7    87510   8.7   5000000  Free    0.0   \n",
       "3  ART_AND_DESIGN     4.5   215644  25.0  50000000  Free    0.0   \n",
       "4  ART_AND_DESIGN     4.3      967   2.8    100000  Free    0.0   \n",
       "\n",
       "  Content Rating                     Genres   Success_Level  \\\n",
       "0       Everyone               Art & Design  Not Successful   \n",
       "1       Everyone  Art & Design;Pretend Play   Above Average   \n",
       "2       Everyone               Art & Design      Successful   \n",
       "3           Teen               Art & Design      Successful   \n",
       "4       Everyone    Art & Design;Creativity         Average   \n",
       "\n",
       "   Success_Level_Encoded  \n",
       "0                      2  \n",
       "1                      0  \n",
       "2                      3  \n",
       "3                      3  \n",
       "4                      1  "
      ]
     },
     "execution_count": 96,
     "metadata": {},
     "output_type": "execute_result"
    }
   ],
   "source": [
    "df.info()\n",
    "df.describe()\n",
    "df.head()"
   ]
  },
  {
   "cell_type": "code",
   "execution_count": 97,
   "id": "f418acd9",
   "metadata": {},
   "outputs": [
    {
     "data": {
      "image/png": "[encoded data removed]",
      "text/plain": [
       "<Figure size 640x480 with 1 Axes>"
      ]
     },
     "metadata": {},
     "output_type": "display_data"
    },
    {
     "data": {
      "text/plain": [
       "Success_Level_Encoded\n",
       "3    2832\n",
       "2    2802\n",
       "0    2115\n",
       "1    1617\n",
       "Name: count, dtype: int64"
      ]
     },
     "execution_count": 97,
     "metadata": {},
     "output_type": "execute_result"
    }
   ],
   "source": [
    "import seaborn as sns\n",
    "import matplotlib.pyplot as plt\n",
    "\n",
    "sns.countplot(data=df, x='Success_Level')\n",
    "plt.title('Распределение уровней успешности приложений')\n",
    "plt.xticks(rotation=15)\n",
    "plt.show()\n",
    "\n",
    "df['Success_Level'].value_counts()\n",
    "df['Success_Level_Encoded'].value_counts()\n"
   ]
  },
  {
   "cell_type": "code",
   "execution_count": 98,
   "id": "85b97bff",
   "metadata": {},
   "outputs": [
    {
     "data": {
      "image/png": "[encoded data removed]",
      "text/plain": [
       "<Figure size 1200x1000 with 2 Axes>"
      ]
     },
     "metadata": {},
     "output_type": "display_data"
    }
   ],
   "source": [
    "#check correlation again\n",
    "plt.figure(figsize=(12,10))\n",
    "corr_matrix = df.corr(numeric_only=True)\n",
    "sns.heatmap(corr_matrix, annot=True, cmap='coolwarm', fmt='.2f')\n",
    "plt.title(\"Correlation Matrix\")\n",
    "plt.show()\n"
   ]
  },
  {
   "cell_type": "code",
   "execution_count": 99,
   "id": "c1d240dc",
   "metadata": {},
   "outputs": [],
   "source": [
    "from sklearn.model_selection import train_test_split\n",
    "\n",
    "# Целевая переменная и признаки\n",
    "X = df.drop(['Success_Level', 'Success_Level_Encoded'], axis=1)\n",
    "y = df['Success_Level_Encoded']\n",
    "\n",
    "# One-hot encoding для категориальных признаков\n",
    "X = pd.get_dummies(X)\n",
    "\n",
    "# Разделение на train/test\n",
    "X_train, X_test, y_train, y_test = train_test_split(X, y, test_size=0.2, random_state=42)\n"
   ]
  },
  {
   "cell_type": "code",
   "execution_count": 100,
   "id": "a57aeae7",
   "metadata": {},
   "outputs": [
    {
     "name": "stdout",
     "output_type": "stream",
     "text": [
      "Размер X_train: (7492, 161)\n",
      "Размер X_test: (1874, 161)\n",
      "Размер y_train: (7492,)\n",
      "Размер y_test: (1874,)\n",
      "   Rating  Reviews  Size  Installs  Price  Category_ART_AND_DESIGN  \\\n",
      "0     4.1      159  19.0     10000    0.0                     True   \n",
      "1     3.9      967  14.0    500000    0.0                     True   \n",
      "2     4.7    87510   8.7   5000000    0.0                     True   \n",
      "3     4.5   215644  25.0  50000000    0.0                     True   \n",
      "4     4.3      967   2.8    100000    0.0                     True   \n",
      "\n",
      "   Category_AUTO_AND_VEHICLES  Category_BEAUTY  Category_BOOKS_AND_REFERENCE  \\\n",
      "0                       False            False                         False   \n",
      "1                       False            False                         False   \n",
      "2                       False            False                         False   \n",
      "3                       False            False                         False   \n",
      "4                       False            False                         False   \n",
      "\n",
      "   Category_BUSINESS  ...  Genres_Tools  Genres_Tools;Education  \\\n",
      "0              False  ...         False                   False   \n",
      "1              False  ...         False                   False   \n",
      "2              False  ...         False                   False   \n",
      "3              False  ...         False                   False   \n",
      "4              False  ...         False                   False   \n",
      "\n",
      "   Genres_Travel & Local  Genres_Travel & Local;Action & Adventure  \\\n",
      "0                  False                                     False   \n",
      "1                  False                                     False   \n",
      "2                  False                                     False   \n",
      "3                  False                                     False   \n",
      "4                  False                                     False   \n",
      "\n",
      "   Genres_Trivia  Genres_Video Players & Editors  \\\n",
      "0          False                           False   \n",
      "1          False                           False   \n",
      "2          False                           False   \n",
      "3          False                           False   \n",
      "4          False                           False   \n",
      "\n",
      "   Genres_Video Players & Editors;Creativity  \\\n",
      "0                                      False   \n",
      "1                                      False   \n",
      "2                                      False   \n",
      "3                                      False   \n",
      "4                                      False   \n",
      "\n",
      "   Genres_Video Players & Editors;Music & Video  Genres_Weather  Genres_Word  \n",
      "0                                         False           False        False  \n",
      "1                                         False           False        False  \n",
      "2                                         False           False        False  \n",
      "3                                         False           False        False  \n",
      "4                                         False           False        False  \n",
      "\n",
      "[5 rows x 161 columns]\n",
      "Количество признаков после one-hot encoding: 161\n",
      "Количество NaN в X_train: 0\n",
      "Количество NaN в X_test: 0\n",
      "Success_Level_Encoded\n",
      "3    2832\n",
      "2    2802\n",
      "0    2115\n",
      "1    1617\n",
      "Name: count, dtype: int64\n"
     ]
    }
   ],
   "source": [
    "# Проверяем размер данных\n",
    "print(f\"Размер X_train: {X_train.shape}\")\n",
    "print(f\"Размер X_test: {X_test.shape}\")\n",
    "print(f\"Размер y_train: {y_train.shape}\")\n",
    "print(f\"Размер y_test: {y_test.shape}\")\n",
    "\n",
    "# Проверяем первые несколько строк данных\n",
    "print(X.head())\n",
    "\n",
    "# Проверяем, сколько новых признаков было создано после one-hot encoding\n",
    "print(f\"Количество признаков после one-hot encoding: {X.shape[1]}\")\n",
    "# Проверяем наличие NaN в данных\n",
    "print(f\"Количество NaN в X_train: {X_train.isnull().sum().sum()}\")\n",
    "print(f\"Количество NaN в X_test: {X_test.isnull().sum().sum()}\")\n",
    "# Проверяем баланс классов в целевой переменной\n",
    "print(y.value_counts())\n"
   ]
  },
  {
   "cell_type": "markdown",
   "id": "c4bddb34",
   "metadata": {},
   "source": [
    "logistic regression"
   ]
  },
  {
   "cell_type": "markdown",
   "id": "83cab092",
   "metadata": {},
   "source": [
    "Логистическая регрессия (Logistic Regression) — это модель классификации, которая предсказывает вероятность принадлежности объекта к определённому классу. Она хорошо подходит как для бинарных, так и для многоклассовых задач.\n",
    "\n",
    "В моём случае используется многоклассовая логистическая регрессия, потому что целевая переменная (Success_Level_Encoded) содержит четыре разных класса. Модель автоматически применяет стратегию \"multinomial\", то есть обучается сразу для всех классов, а не по одному против остальных. Это обеспечивает более точное разделение между несколькими категориями\n",
    "\n",
    "\n",
    "Как работает логистическая регрессия (многоклассовая):\n",
    "Каждая строка данных (приложение) представляется в виде набора чисел — признаков (размер, рейтинг, цена и т.д.).\n",
    "\n",
    "Модель учится находить зависимости между этими признаками и уровнями успешности (Success_Level_Encoded: 0, 1, 2, 3).\n",
    "\n",
    "Для многоклассовой задачи логистическая регрессия использует метод \"softmax\" — он рассчитывает вероятность принадлежности к каждому классу.\n",
    "\n",
    "Пример:\n",
    "Для одного приложения модель может предсказать:\n",
    "\n",
    "Класс 0: 5%\n",
    "\n",
    "Класс 1: 15%\n",
    "\n",
    "Класс 2: 30%\n",
    "\n",
    "Класс 3: 50%\n",
    "→ Значит, модель выберет класс 3 как итоговую метку.\n",
    "\n",
    "В процессе обучения модель регулирует свои коэффициенты, чтобы как можно точнее разделить данные по классам."
   ]
  },
  {
   "cell_type": "code",
   "execution_count": 101,
   "id": "94ef32dc",
   "metadata": {},
   "outputs": [
    {
     "name": "stdout",
     "output_type": "stream",
     "text": [
      "Logistic Regression Report:\n",
      "              precision    recall  f1-score   support\n",
      "\n",
      "           0       0.77      0.94      0.85       403\n",
      "           1       0.70      0.64      0.67       333\n",
      "           2       0.97      0.87      0.92       569\n",
      "           3       0.99      0.98      0.99       569\n",
      "\n",
      "    accuracy                           0.88      1874\n",
      "   macro avg       0.86      0.86      0.86      1874\n",
      "weighted avg       0.89      0.88      0.88      1874\n",
      "\n"
     ]
    },
    {
     "name": "stderr",
     "output_type": "stream",
     "text": [
      "c:\\Users\\111\\AppData\\Local\\Programs\\Python\\Python313\\Lib\\site-packages\\sklearn\\linear_model\\_logistic.py:465: ConvergenceWarning: lbfgs failed to converge (status=1):\n",
      "STOP: TOTAL NO. OF ITERATIONS REACHED LIMIT.\n",
      "\n",
      "Increase the number of iterations (max_iter) or scale the data as shown in:\n",
      "    https://scikit-learn.org/stable/modules/preprocessing.html\n",
      "Please also refer to the documentation for alternative solver options:\n",
      "    https://scikit-learn.org/stable/modules/linear_model.html#logistic-regression\n",
      "  n_iter_i = _check_optimize_result(\n"
     ]
    }
   ],
   "source": [
    "from sklearn.linear_model import LogisticRegression\n",
    "from sklearn.metrics import classification_report\n",
    "\n",
    "logreg = LogisticRegression(max_iter=1000)#происходит 1000 итераций\n",
    "logreg.fit(X_train, y_train)#обучение модели\n",
    "y_pred_log = logreg.predict(X_test)\n",
    "'''Эта строка выводит детальный отчет о качестве модели. Он включает несколько метрик для каждого класса:\n",
    "Precision: точность (доля верных положительных предсказаний от всех предсказанных положительных).\n",
    "Recall: полнота (доля верных положительных предсказаний от всех реальных положительных).\n",
    "F1-score: гармоническое среднее между precision и recall, это сбалансированная метрика.\n",
    "Support: количество экземпляров в каждом классе в тестовой выборке.'''\n",
    "\n",
    "print(\"Logistic Regression Report:\")\n",
    "print(classification_report(y_test, y_pred_log))\n"
   ]
  },
  {
   "cell_type": "markdown",
   "id": "f0307f9d",
   "metadata": {},
   "source": [
    "SVM"
   ]
  },
  {
   "cell_type": "code",
   "execution_count": 102,
   "id": "d059db56",
   "metadata": {},
   "outputs": [
    {
     "name": "stdout",
     "output_type": "stream",
     "text": [
      "SVM Report:\n",
      "              precision    recall  f1-score   support\n",
      "\n",
      "           0       0.00      0.00      0.00       403\n",
      "           1       0.00      0.00      0.00       333\n",
      "           2       0.44      1.00      0.61       569\n",
      "           3       1.00      1.00      1.00       569\n",
      "\n",
      "    accuracy                           0.61      1874\n",
      "   macro avg       0.36      0.50      0.40      1874\n",
      "weighted avg       0.44      0.61      0.49      1874\n",
      "\n"
     ]
    },
    {
     "name": "stderr",
     "output_type": "stream",
     "text": [
      "c:\\Users\\111\\AppData\\Local\\Programs\\Python\\Python313\\Lib\\site-packages\\sklearn\\metrics\\_classification.py:1565: UndefinedMetricWarning: Precision is ill-defined and being set to 0.0 in labels with no predicted samples. Use `zero_division` parameter to control this behavior.\n",
      "  _warn_prf(average, modifier, f\"{metric.capitalize()} is\", len(result))\n",
      "c:\\Users\\111\\AppData\\Local\\Programs\\Python\\Python313\\Lib\\site-packages\\sklearn\\metrics\\_classification.py:1565: UndefinedMetricWarning: Precision is ill-defined and being set to 0.0 in labels with no predicted samples. Use `zero_division` parameter to control this behavior.\n",
      "  _warn_prf(average, modifier, f\"{metric.capitalize()} is\", len(result))\n",
      "c:\\Users\\111\\AppData\\Local\\Programs\\Python\\Python313\\Lib\\site-packages\\sklearn\\metrics\\_classification.py:1565: UndefinedMetricWarning: Precision is ill-defined and being set to 0.0 in labels with no predicted samples. Use `zero_division` parameter to control this behavior.\n",
      "  _warn_prf(average, modifier, f\"{metric.capitalize()} is\", len(result))\n"
     ]
    }
   ],
   "source": [
    "from sklearn.svm import SVC\n",
    "\n",
    "svm_model = SVC()\n",
    "svm_model.fit(X_train, y_train)\n",
    "y_pred_svm = svm_model.predict(X_test)\n",
    "\n",
    "print(\"SVM Report:\")\n",
    "print(classification_report(y_test, y_pred_svm))\n"
   ]
  },
  {
   "cell_type": "markdown",
   "id": "718544c9",
   "metadata": {},
   "source": [
    "polynomial\n",
    "короче тут оно не выдавало результат 10 минут и может больше потому что degree было 2 , я постаивла 1 и все лучше\n",
    "(надо разораться как этот дегри работает)"
   ]
  },
  {
   "cell_type": "code",
   "execution_count": 107,
   "id": "a7eb866e",
   "metadata": {},
   "outputs": [
    {
     "name": "stderr",
     "output_type": "stream",
     "text": [
      "c:\\Users\\111\\AppData\\Local\\Programs\\Python\\Python313\\Lib\\site-packages\\sklearn\\linear_model\\_logistic.py:1247: FutureWarning: 'multi_class' was deprecated in version 1.5 and will be removed in 1.7. From then on, it will always use 'multinomial'. Leave it to its default value to avoid this warning.\n",
      "  warnings.warn(\n"
     ]
    },
    {
     "name": "stdout",
     "output_type": "stream",
     "text": [
      "Logistic Regression Report:\n",
      "              precision    recall  f1-score   support\n",
      "\n",
      "           0       0.77      0.95      0.85       403\n",
      "           1       0.71      0.65      0.68       333\n",
      "           2       0.97      0.88      0.92       569\n",
      "           3       0.99      0.99      0.99       569\n",
      "\n",
      "    accuracy                           0.88      1874\n",
      "   macro avg       0.86      0.86      0.86      1874\n",
      "weighted avg       0.89      0.88      0.88      1874\n",
      "\n"
     ]
    },
    {
     "name": "stderr",
     "output_type": "stream",
     "text": [
      "c:\\Users\\111\\AppData\\Local\\Programs\\Python\\Python313\\Lib\\site-packages\\sklearn\\linear_model\\_logistic.py:465: ConvergenceWarning: lbfgs failed to converge (status=1):\n",
      "STOP: TOTAL NO. OF ITERATIONS REACHED LIMIT.\n",
      "\n",
      "Increase the number of iterations (max_iter) or scale the data as shown in:\n",
      "    https://scikit-learn.org/stable/modules/preprocessing.html\n",
      "Please also refer to the documentation for alternative solver options:\n",
      "    https://scikit-learn.org/stable/modules/linear_model.html#logistic-regression\n",
      "  n_iter_i = _check_optimize_result(\n"
     ]
    }
   ],
   "source": [
    "from sklearn.preprocessing import PolynomialFeatures\n",
    "from sklearn.linear_model import LogisticRegression\n",
    "from sklearn.metrics import classification_report\n",
    "from sklearn.model_selection import train_test_split\n",
    "\n",
    "# Целевая переменная и признаки\n",
    "X = df.drop(['Success_Level', 'Success_Level_Encoded'], axis=1)\n",
    "y = df['Success_Level_Encoded']\n",
    "\n",
    "# One-hot encoding для категориальных признаков\n",
    "X = pd.get_dummies(X)\n",
    "\n",
    "# Разделение на train/test\n",
    "X_train, X_test, y_train, y_test = train_test_split(X, y, test_size=0.2, random_state=42)\n",
    "\n",
    "\n",
    "\n",
    "# Создание полиномиальных признаков (например, степень 2)\n",
    "poly = PolynomialFeatures(degree=1)\n",
    "\n",
    "# Преобразование обучающих и тестовых данных\n",
    "X_train_poly = poly.fit_transform(X_train)\n",
    "X_test_poly = poly.transform(X_test)\n",
    "\n",
    "# Модель логистической регрессии с мульти-номинальной настройкой\n",
    "logreg = LogisticRegression(max_iter=1000, multi_class='multinomial', solver='lbfgs')\n",
    "logreg.fit(X_train_poly, y_train)\n",
    "\n",
    "# Предсказания\n",
    "y_pred = logreg.predict(X_test_poly)\n",
    "\n",
    "# Отчет о качестве модели\n",
    "print(\"Logistic Regression Report:\")\n",
    "print(classification_report(y_test, y_pred))\n"
   ]
  }
 ],
 "metadata": {
  "kernelspec": {
   "display_name": "Python 3",
   "language": "python",
   "name": "python3"
  },
  "language_info": {
   "codemirror_mode": {
    "name": "ipython",
    "version": 3
   },
   "file_extension": ".py",
   "mimetype": "text/x-python",
   "name": "python",
   "nbconvert_exporter": "python",
   "pygments_lexer": "ipython3",
   "version": "3.13.2"
  }
 },
 "nbformat": 4,
 "nbformat_minor": 5
}
